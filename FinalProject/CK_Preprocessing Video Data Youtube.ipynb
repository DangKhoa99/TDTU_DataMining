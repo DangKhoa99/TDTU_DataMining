{
 "cells": [
  {
   "cell_type": "markdown",
   "metadata": {},
   "source": [
    "# KHAI THÁC DỮ LIỆU VÀ KHAI PHÁ TRI THỨC - Nhóm 08 - Final Project\n",
    "\n",
    "Giảng viên: Lê Cung Tưởng\n",
    "\n",
    "Sinh viên: \n",
    "\n",
    "- Nguyễn Minh Đăng Khoa - 51800882\n",
    "\n",
    "\n",
    "- Trần Ngọc Dũng - 51800187"
   ]
  },
  {
   "cell_type": "markdown",
   "metadata": {},
   "source": [
    "# Task 1: Collecting Data - Part: Preprocessing"
   ]
  },
  {
   "cell_type": "markdown",
   "metadata": {},
   "source": [
    "## Import Libraries"
   ]
  },
  {
   "cell_type": "code",
   "execution_count": 1,
   "metadata": {},
   "outputs": [],
   "source": [
    "import pandas as pd\n",
    "from pyvi import ViTokenizer"
   ]
  },
  {
   "cell_type": "markdown",
   "metadata": {},
   "source": [
    "## Read Data"
   ]
  },
  {
   "cell_type": "code",
   "execution_count": 24,
   "metadata": {},
   "outputs": [],
   "source": [
    "filename = \"./YoutubeData/video1.xlsx\"\n",
    "filename1 = \"./YoutubeData/video2.xlsx\"\n",
    "filename2 = \"./YoutubeData/video3.xlsx\"\n",
    "df = pd.read_excel(filename2)"
   ]
  },
  {
   "cell_type": "code",
   "execution_count": 25,
   "metadata": {},
   "outputs": [
    {
     "data": {
      "text/html": [
       "<div>\n",
       "<style scoped>\n",
       "    .dataframe tbody tr th:only-of-type {\n",
       "        vertical-align: middle;\n",
       "    }\n",
       "\n",
       "    .dataframe tbody tr th {\n",
       "        vertical-align: top;\n",
       "    }\n",
       "\n",
       "    .dataframe thead th {\n",
       "        text-align: right;\n",
       "    }\n",
       "</style>\n",
       "<table border=\"1\" class=\"dataframe\">\n",
       "  <thead>\n",
       "    <tr style=\"text-align: right;\">\n",
       "      <th></th>\n",
       "      <th>Unnamed: 0</th>\n",
       "      <th>Emotion</th>\n",
       "      <th>Sentence</th>\n",
       "    </tr>\n",
       "  </thead>\n",
       "  <tbody>\n",
       "    <tr>\n",
       "      <th>0</th>\n",
       "      <td>0</td>\n",
       "      <td>NaN</td>\n",
       "      <td>Giồi ôi, bạn lại còn ghi Feelody nữa =)) bạn l...</td>\n",
       "    </tr>\n",
       "    <tr>\n",
       "      <th>1</th>\n",
       "      <td>1</td>\n",
       "      <td>NaN</td>\n",
       "      <td>Còn 120k like nữa,ráng like cho Đen đủ 1000k l...</td>\n",
       "    </tr>\n",
       "    <tr>\n",
       "      <th>2</th>\n",
       "      <td>2</td>\n",
       "      <td>NaN</td>\n",
       "      <td>\"Con gấu kiếm ăn đủ, thì nó mới có thể ngủ đôn...</td>\n",
       "    </tr>\n",
       "    <tr>\n",
       "      <th>3</th>\n",
       "      <td>3</td>\n",
       "      <td>NaN</td>\n",
       "      <td>Hơn một năm trước cày view muốn lòi mắt 😳😊😊</td>\n",
       "    </tr>\n",
       "    <tr>\n",
       "      <th>4</th>\n",
       "      <td>4</td>\n",
       "      <td>NaN</td>\n",
       "      <td>ngày nào cũng nghe như con nghiện , hóng 1 tri...</td>\n",
       "    </tr>\n",
       "  </tbody>\n",
       "</table>\n",
       "</div>"
      ],
      "text/plain": [
       "   Unnamed: 0  Emotion                                           Sentence\n",
       "0           0      NaN  Giồi ôi, bạn lại còn ghi Feelody nữa =)) bạn l...\n",
       "1           1      NaN  Còn 120k like nữa,ráng like cho Đen đủ 1000k l...\n",
       "2           2      NaN  \"Con gấu kiếm ăn đủ, thì nó mới có thể ngủ đôn...\n",
       "3           3      NaN        Hơn một năm trước cày view muốn lòi mắt 😳😊😊\n",
       "4           4      NaN  ngày nào cũng nghe như con nghiện , hóng 1 tri..."
      ]
     },
     "execution_count": 25,
     "metadata": {},
     "output_type": "execute_result"
    }
   ],
   "source": [
    "df.head()"
   ]
  },
  {
   "cell_type": "code",
   "execution_count": 26,
   "metadata": {},
   "outputs": [],
   "source": [
    "df.drop(columns=[\"Unnamed: 0\"], inplace=True)"
   ]
  },
  {
   "cell_type": "code",
   "execution_count": 27,
   "metadata": {},
   "outputs": [
    {
     "data": {
      "text/html": [
       "<div>\n",
       "<style scoped>\n",
       "    .dataframe tbody tr th:only-of-type {\n",
       "        vertical-align: middle;\n",
       "    }\n",
       "\n",
       "    .dataframe tbody tr th {\n",
       "        vertical-align: top;\n",
       "    }\n",
       "\n",
       "    .dataframe thead th {\n",
       "        text-align: right;\n",
       "    }\n",
       "</style>\n",
       "<table border=\"1\" class=\"dataframe\">\n",
       "  <thead>\n",
       "    <tr style=\"text-align: right;\">\n",
       "      <th></th>\n",
       "      <th>Emotion</th>\n",
       "      <th>Sentence</th>\n",
       "    </tr>\n",
       "  </thead>\n",
       "  <tbody>\n",
       "    <tr>\n",
       "      <th>0</th>\n",
       "      <td>NaN</td>\n",
       "      <td>Giồi ôi, bạn lại còn ghi Feelody nữa =)) bạn l...</td>\n",
       "    </tr>\n",
       "    <tr>\n",
       "      <th>1</th>\n",
       "      <td>NaN</td>\n",
       "      <td>Còn 120k like nữa,ráng like cho Đen đủ 1000k l...</td>\n",
       "    </tr>\n",
       "    <tr>\n",
       "      <th>2</th>\n",
       "      <td>NaN</td>\n",
       "      <td>\"Con gấu kiếm ăn đủ, thì nó mới có thể ngủ đôn...</td>\n",
       "    </tr>\n",
       "    <tr>\n",
       "      <th>3</th>\n",
       "      <td>NaN</td>\n",
       "      <td>Hơn một năm trước cày view muốn lòi mắt 😳😊😊</td>\n",
       "    </tr>\n",
       "    <tr>\n",
       "      <th>4</th>\n",
       "      <td>NaN</td>\n",
       "      <td>ngày nào cũng nghe như con nghiện , hóng 1 tri...</td>\n",
       "    </tr>\n",
       "  </tbody>\n",
       "</table>\n",
       "</div>"
      ],
      "text/plain": [
       "   Emotion                                           Sentence\n",
       "0      NaN  Giồi ôi, bạn lại còn ghi Feelody nữa =)) bạn l...\n",
       "1      NaN  Còn 120k like nữa,ráng like cho Đen đủ 1000k l...\n",
       "2      NaN  \"Con gấu kiếm ăn đủ, thì nó mới có thể ngủ đôn...\n",
       "3      NaN        Hơn một năm trước cày view muốn lòi mắt 😳😊😊\n",
       "4      NaN  ngày nào cũng nghe như con nghiện , hóng 1 tri..."
      ]
     },
     "execution_count": 27,
     "metadata": {},
     "output_type": "execute_result"
    }
   ],
   "source": [
    "df.head()"
   ]
  },
  {
   "cell_type": "markdown",
   "metadata": {},
   "source": [
    "## Preprocessing"
   ]
  },
  {
   "cell_type": "code",
   "execution_count": 28,
   "metadata": {},
   "outputs": [],
   "source": [
    "import string\n",
    "\n",
    "def text_process(mess):\n",
    "    # chuyển về chữ thường\n",
    "    mess = mess.lower()\n",
    "    \n",
    "    # Bỏ những chữ đặc biệt\n",
    "    mess = mess.replace(\"<3\", \"\")\n",
    "    mess = mess.replace(\":3\", \"\")\n",
    "    mess = mess.replace(\"per\", \"\")\n",
    "    \n",
    "    # Replace từ viết tắt\n",
    "    mess = mess.replace(\"ak\", \"à\")\n",
    "    mess = mess.replace(\"ae\", \"anh em\")\n",
    "    mess = mess.replace(\"ko\", \"không\")\n",
    "    mess = mess.replace(\"hs\", \"học sinh\")\n",
    "    mess = mess.replace(\"trog\", \"trong\")\n",
    "    mess = mess.replace(\"cv\", \"công việc\")\n",
    "    mess = mess.replace(\"sgk\", \"sách giáo khoa\")\n",
    "    mess = mess.replace(\"kq\", \"kết quả\")\n",
    "    mess = mess.replace(\"dzầy\", \"vậy\")\n",
    "    mess = mess.replace(\"zay\", \"vậy\")\n",
    "    mess = mess.replace(\"vầy\", \"vậy\")\n",
    "    mess = mess.replace(\"zậy\", \"vậy\")\n",
    "    mess = mess.replace(\"mj\", \"mày\")\n",
    "    mess = mess.replace(\"nyc\", \"người yêu cũ\")\n",
    "    mess = mess.replace(\"del\", \"đéo\")\n",
    "    mess = mess.replace(\"địt mẹ\", \"dm\")\n",
    "    mess = mess.replace(\"đụ mẹ\", \"dm\")\n",
    "    mess = mess.replace(\"đcm\", \"dm\")\n",
    "    mess = mess.replace(\"dkm\", \"dm\")\n",
    "    mess = mess.replace(\"đkm\", \"dm\")\n",
    "    mess = mess.replace(\"dume\", \"dm\")\n",
    "    mess = mess.replace(\"dme\", \"dm\")\n",
    "    mess = mess.replace(\"đm\", \"dm\")\n",
    "    mess = mess.replace(\"mún\", \"muốn\")\n",
    "    mess = mess.replace(\"pv\", \"phục vụ\")\n",
    "    mess = mess.replace(\"huhuhu\", \"huhu\")\n",
    "    mess = mess.replace(\"ahuhuhu\", \"huhu\")\n",
    "    mess = mess.replace(\"hjxhjx\", \"huhu\")\n",
    "    mess = mess.replace(\"hiccc\", \"huhu\")\n",
    "    mess = mess.replace(\"híc híc\", \"huhu\")\n",
    "    mess = mess.replace(\"hix\", \"huhu\")\n",
    "    mess = mess.replace(\"vớiiiiii\", \"với\")\n",
    "    mess = mess.replace(\"vớiiiii\", \"với\")\n",
    "    mess = mess.replace(\"vớiiii\", \"với\")\n",
    "    mess = mess.replace(\"vớiii\", \"với\")\n",
    "    mess = mess.replace(\"vớii\", \"với\")\n",
    "    mess = mess.replace(\"hmmmmmmm\", \"hmm\")\n",
    "    mess = mess.replace(\"hhhhhhhhhhhhhhhhhhhhhhh\", \"haha\")\n",
    "    mess = mess.replace(\"ha ha\", \"haha\")\n",
    "    mess = mess.replace(\"hahahaha\", \"haha\")\n",
    "    mess = mess.replace(\"hahaha\", \"haha\")\n",
    "    mess = mess.replace(\"hahaaaa\", \"haha\")\n",
    "    mess = mess.replace(\"kkkkk\", \"haha\")\n",
    "    mess = mess.replace(\"kkkk\", \"haha\")\n",
    "    mess = mess.replace(\"kkk\", \"haha\")\n",
    "    mess = mess.replace(\"kk\", \"haha\")\n",
    "    mess = mess.replace(\"hihihihi\", \"haha\")\n",
    "    mess = mess.replace(\"hihihi\", \"haha\")\n",
    "    mess = mess.replace(\"hihi\", \"haha\")\n",
    "    mess = mess.replace(\"hí hí\", \"haha\")\n",
    "    mess = mess.replace(\"ahihi\", \"haha\")\n",
    "    mess = mess.replace(\"záy\", \"váy\")\n",
    "    mess = mess.replace(\"ukm\", \"ừ\")\n",
    "    mess = mess.replace(\"đag\", \"đang\")\n",
    "    mess = mess.replace(\"saoooo\", \"sao\")\n",
    "    mess = mess.replace(\"traiiii\", \"trai\")\n",
    "    mess = mess.replace(\"troai\", \"trai\")\n",
    "    mess = mess.replace(\"đấyyyyy\", \"đấy\")\n",
    "    mess = mess.replace(\"nhaaaaaaaa\", \"nha\")\n",
    "    mess = mess.replace(\"hơm\", \"không\")\n",
    "    mess = mess.replace(\"thươnggg\", \"thương\")\n",
    "    mess = mess.replace(\"tk\", \"thằng\")\n",
    "    mess = mess.replace(\"vlllll\", \"vl\")\n",
    "    mess = mess.replace(\"vllll\", \"vl\")\n",
    "    mess = mess.replace(\"vlll\", \"vl\")\n",
    "    mess = mess.replace(\"vll\", \"vl\")\n",
    "    mess = mess.replace(\"vailon\", \"vl\")\n",
    "    mess = mess.replace(\"vailol\", \"vl\")\n",
    "    mess = mess.replace(\"lol\", \"vl\")\n",
    "    mess = mess.replace(\"vlon\", \"vl\")\n",
    "    mess = mess.replace(\"vãi lozzzz\", \"vl\")\n",
    "    mess = mess.replace(\"vkl\", \"vl\")\n",
    "    mess = mess.replace(\"vchhhh\", \"vl\")\n",
    "    mess = mess.replace(\"vchhh\", \"vl\")\n",
    "    mess = mess.replace(\"vchh\", \"vl\")\n",
    "    mess = mess.replace(\"vcllll\", \"vl\")\n",
    "    mess = mess.replace(\"vclll\", \"vl\")\n",
    "    mess = mess.replace(\"vcll\", \"vl\")\n",
    "    mess = mess.replace(\"tks\", \"cám ơn\")\n",
    "    mess = mess.replace(\"đc\", \"được\")\n",
    "    mess = mess.replace(\"dc\", \"được\")\n",
    "    mess = mess.replace(\"đx\", \"được\")\n",
    "    mess = mess.replace(\"vãiiii\", \"vãi\")\n",
    "    mess = mess.replace(\"iemm\", \"em\")\n",
    "    mess = mess.replace(\"chuỵ\", \"chị\")\n",
    "    mess = mess.replace(\"hỏg\", \"hỏng\")\n",
    "    mess = mess.replace(\"rồiiiii\", \"rồi\")\n",
    "    mess = mess.replace(\"rồiiii\", \"rồi\")\n",
    "    mess = mess.replace(\"rồiii\", \"rồi\")\n",
    "    mess = mess.replace(\"rồii\", \"rồi\")\n",
    "    mess = mess.replace(\"caooooo\", \"cao\")\n",
    "    mess = mess.replace(\"ỏoo\", \"ỏ\")\n",
    "    mess = mess.replace(\"trờiiiiii\", \"trời\")\n",
    "    mess = mess.replace(\"trờiiiii\", \"trời\")\n",
    "    mess = mess.replace(\"trờiiii\", \"trời\")\n",
    "    mess = mess.replace(\"trờiii\", \"trời\")\n",
    "    mess = mess.replace(\"trờii\", \"trời\")\n",
    "    mess = mess.replace(\"chờiiiii\", \"trời\")\n",
    "    mess = mess.replace(\"chờiiii\", \"trời\")\n",
    "    mess = mess.replace(\"chờiii\", \"trời\")\n",
    "    mess = mess.replace(\"chờii\", \"trời\")\n",
    "    mess = mess.replace(\"tayyy\", \"tay\")\n",
    "    mess = mess.replace(\"tayy\", \"tay\")\n",
    "    mess = mess.replace(\"ngta\", \"người ta\")\n",
    "    mess = mess.replace(\"vn\", \"việt nam\")\n",
    "    mess = mess.replace(\"gê\", \"ghê\")\n",
    "    mess = mess.replace(\"gheê\", \"ghê\")\n",
    "    mess = mess.replace(\"nổiiiii\", \"nổi\")\n",
    "    mess = mess.replace(\"nổiiii\", \"nổi\")\n",
    "    mess = mess.replace(\"nổiii\", \"nổi\")\n",
    "    mess = mess.replace(\"nổii\", \"nổi\")\n",
    "    mess = mess.replace(\"thik\", \"thích\")\n",
    "    mess = mess.replace(\"cx\", \"cũng\")\n",
    "    mess = mess.replace(\"owiiiiii\", \"ơi\")\n",
    "    mess = mess.replace(\"trc\", \"trước\")\n",
    "    mess = mess.replace(\"wá\", \"quá\")\n",
    "    \n",
    "    # Loại bỏ whitespace 2 đầu của mess\n",
    "    mess = mess.strip()\n",
    "    \n",
    "    # xóa dấu câu\n",
    "    mess = [char for char in mess if char not in string.punctuation]\n",
    "    mess = ''.join(mess)\n",
    "    \n",
    "    # replace whitespace\n",
    "    mess = mess.replace(\"   \", \" \")\n",
    "    mess = mess.replace(\"  \", \" \")\n",
    "    \n",
    "    # Word Segmentation\n",
    "    mess = ViTokenizer.tokenize(mess)\n",
    "    \n",
    "    return mess"
   ]
  },
  {
   "cell_type": "code",
   "execution_count": 29,
   "metadata": {},
   "outputs": [],
   "source": [
    "# Tạo col remove_punctutation apply hàm text_process lên col Sentence\n",
    "df['remove_punctutation'] = df.Sentence.apply(text_process)"
   ]
  },
  {
   "cell_type": "code",
   "execution_count": 30,
   "metadata": {},
   "outputs": [],
   "source": [
    "import demoji"
   ]
  },
  {
   "cell_type": "code",
   "execution_count": 31,
   "metadata": {},
   "outputs": [],
   "source": [
    "# Remove Emoji\n",
    "df[\"remove_emoji\"] = df.remove_punctutation.apply(lambda x: demoji.replace(x, \"\"))"
   ]
  },
  {
   "cell_type": "code",
   "execution_count": 32,
   "metadata": {},
   "outputs": [],
   "source": [
    "# Chuyển câu đã remove Emoji và text_process về col Sentence. Sau đó, xóa 2 cột remove_emoji, remove_punctutation\n",
    "df.Sentence = df.remove_emoji\n",
    "df.drop(columns=[\"remove_punctutation\"], inplace=True)\n",
    "df.drop(columns=[\"remove_emoji\"], inplace=True)"
   ]
  },
  {
   "cell_type": "markdown",
   "metadata": {},
   "source": [
    "# Export file Excel"
   ]
  },
  {
   "cell_type": "code",
   "execution_count": 33,
   "metadata": {},
   "outputs": [],
   "source": [
    "def export_excel(df):\n",
    "    df.to_excel('./YoutubeData/cleanVideoData3.xlsx')\n",
    "    print(df)"
   ]
  },
  {
   "cell_type": "code",
   "execution_count": 34,
   "metadata": {},
   "outputs": [
    {
     "name": "stdout",
     "output_type": "stream",
     "text": [
      "     Emotion                                           Sentence\n",
      "0        NaN  giồi ôi bạn lại còn ghi feelody nữa bạn lắm_ch...\n",
      "1        NaN  còn 120k like nữaráng like cho đen đủ 1000k li...\n",
      "2        NaN  con gấu kiếm_ăn_đủ thì nó mới có_thể ngủ_đông ...\n",
      "3        NaN         hơn một năm trước cày view muốn lòi mắt   \n",
      "4        NaN  ngày nào cũng nghe như con_nghiện hóng 1 triệu...\n",
      "..       ...                                                ...\n",
      "96       NaN                           nay thi văn dính bài này\n",
      "97       NaN  một cái beat thật chill đưa ta về với bản_chất...\n",
      "98       NaN  phải nói lyric đen mà số 2 thì không ai số 1 t...\n",
      "99       NaN                  sao trên spotify beat nó khác zậy\n",
      "100      NaN  khi mày yêu cuộc_đời cuộc_đời cũng sẽ yêu mày ...\n",
      "\n",
      "[101 rows x 2 columns]\n"
     ]
    }
   ],
   "source": [
    "export_excel(df)"
   ]
  },
  {
   "cell_type": "code",
   "execution_count": null,
   "metadata": {},
   "outputs": [],
   "source": []
  }
 ],
 "metadata": {
  "kernelspec": {
   "display_name": "Python 3",
   "language": "python",
   "name": "python3"
  },
  "language_info": {
   "codemirror_mode": {
    "name": "ipython",
    "version": 3
   },
   "file_extension": ".py",
   "mimetype": "text/x-python",
   "name": "python",
   "nbconvert_exporter": "python",
   "pygments_lexer": "ipython3",
   "version": "3.8.5"
  }
 },
 "nbformat": 4,
 "nbformat_minor": 4
}

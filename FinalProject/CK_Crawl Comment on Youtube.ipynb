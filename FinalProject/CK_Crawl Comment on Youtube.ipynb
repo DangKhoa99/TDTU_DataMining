{
 "cells": [
  {
   "cell_type": "markdown",
   "metadata": {},
   "source": [
    "## KHAI THÁC DỮ LIỆU VÀ KHAI PHÁ TRI THỨC - Nhóm 08 - Final Project\n",
    "\n",
    "Giảng viên: Lê Cung Tưởng\n",
    "\n",
    "Sinh viên: \n",
    "\n",
    "- Nguyễn Minh Đăng Khoa - 51800882\n",
    "\n",
    "\n",
    "- Trần Ngọc Dũng - 51800187"
   ]
  },
  {
   "cell_type": "markdown",
   "metadata": {},
   "source": [
    "# Task 1: Collecting Data"
   ]
  },
  {
   "cell_type": "code",
   "execution_count": 1,
   "metadata": {},
   "outputs": [
    {
     "name": "stdout",
     "output_type": "stream",
     "text": [
      "Collecting selenium\n",
      "Note: you may need to restart the kernel to use updated packages.  Downloading selenium-3.141.0-py2.py3-none-any.whl (904 kB)\n",
      "Requirement already satisfied: urllib3 in d:\\program\\anaconda3\\lib\\site-packages (from selenium) (1.25.11)\n",
      "Installing collected packages: selenium\n",
      "Successfully installed selenium-3.141.0\n",
      "\n"
     ]
    }
   ],
   "source": [
    "# pip install selenium"
   ]
  },
  {
   "cell_type": "markdown",
   "metadata": {},
   "source": [
    "## Import Libraries"
   ]
  },
  {
   "cell_type": "code",
   "execution_count": 1,
   "metadata": {},
   "outputs": [],
   "source": [
    "from selenium import webdriver\n",
    "from selenium.webdriver.common.keys import Keys\n",
    "from selenium.webdriver.support.ui import WebDriverWait\n",
    "from selenium.webdriver.support import expected_conditions as EC\n",
    "from selenium.webdriver.common.by import By\n",
    "import time\n",
    "import pandas as pd"
   ]
  },
  {
   "cell_type": "markdown",
   "metadata": {},
   "source": [
    "## Link Youtube Crawl"
   ]
  },
  {
   "cell_type": "code",
   "execution_count": 13,
   "metadata": {},
   "outputs": [],
   "source": [
    "# Mặt Trời Của Em (Lẩu Version) - Phương Ly ft. JustaTee\n",
    "url = \"https://www.youtube.com/watch?v=PGfG5NF3Ptw&list=RDPGfG5NF3Ptw&start_radio=1\"\n",
    "# Đen x JustaTee - Đi Về Nhà (M/V)\n",
    "url1 = \"https://www.youtube.com/watch?v=vTJdVE_gjI0\"\n",
    "# Đen - một triệu like ft. Thành Đồng (M/V)\n",
    "url2 = \"https://www.youtube.com/watch?v=oigiXW6XyCQ\"\n",
    "data_crawl =[]"
   ]
  },
  {
   "cell_type": "markdown",
   "metadata": {},
   "source": [
    "## Crawl"
   ]
  },
  {
   "cell_type": "code",
   "execution_count": 14,
   "metadata": {},
   "outputs": [],
   "source": [
    "path = r\"./chromedriver.exe\"\n",
    "driver = webdriver.Chrome(path)\n",
    "driver.get(url2)\n",
    "wait = WebDriverWait(driver, 10)\n",
    "\n",
    "for i in range(10):\n",
    "    wait.until(EC.visibility_of_element_located((By.TAG_NAME, \"body\"))).send_keys(Keys.END)\n",
    "    time.sleep(10)\n",
    "    \n",
    "comments = driver.find_elements_by_id('content-text')\n",
    "\n",
    "for i in range(len(comments)):\n",
    "    data_crawl.append(comments[i].text)"
   ]
  },
  {
   "cell_type": "markdown",
   "metadata": {},
   "source": [
    "## Export file excel"
   ]
  },
  {
   "cell_type": "code",
   "execution_count": 15,
   "metadata": {},
   "outputs": [],
   "source": [
    "def export_excel(data):\n",
    "    df = pd.DataFrame(data, columns=['Sentence'])\n",
    "    df[\"Emotion\"] = \"\"\n",
    "    df = df[[\"Emotion\", \"Sentence\"]]\n",
    "    df.to_excel('video3.xlsx')\n",
    "    print(df)"
   ]
  },
  {
   "cell_type": "code",
   "execution_count": 16,
   "metadata": {},
   "outputs": [
    {
     "name": "stdout",
     "output_type": "stream",
     "text": [
      "    Emotion                                           Sentence\n",
      "0            Giồi ôi, bạn lại còn ghi Feelody nữa =)) bạn l...\n",
      "1            Còn 120k like nữa,ráng like cho Đen đủ 1000k l...\n",
      "2            \"Con gấu kiếm ăn đủ, thì nó mới có thể ngủ đôn...\n",
      "3                  Hơn một năm trước cày view muốn lòi mắt 😳😊😊\n",
      "4            ngày nào cũng nghe như con nghiện , hóng 1 trệ...\n",
      "..      ...                                                ...\n",
      "415          Đen - một triệu like\\n\\nÂy.. Đen Vâu\\nMột cái ...\n",
      "416          rất hay và hâm mộ a! chỉ hi vọng là a sẽ bớt h...\n",
      "417          Một cái beat thật chill, đưa Tùng về với bản c...\n",
      "418                                  900.000 like rồi[b]!!!!!!\n",
      "419          30/4/2021\\nChú Đen ơi chúng cháu đói nhạc rồi ...\n",
      "\n",
      "[420 rows x 2 columns]\n"
     ]
    }
   ],
   "source": [
    "export_excel(data_crawl)"
   ]
  },
  {
   "cell_type": "code",
   "execution_count": null,
   "metadata": {},
   "outputs": [],
   "source": []
  }
 ],
 "metadata": {
  "kernelspec": {
   "display_name": "Python 3",
   "language": "python",
   "name": "python3"
  },
  "language_info": {
   "codemirror_mode": {
    "name": "ipython",
    "version": 3
   },
   "file_extension": ".py",
   "mimetype": "text/x-python",
   "name": "python",
   "nbconvert_exporter": "python",
   "pygments_lexer": "ipython3",
   "version": "3.8.5"
  }
 },
 "nbformat": 4,
 "nbformat_minor": 4
}

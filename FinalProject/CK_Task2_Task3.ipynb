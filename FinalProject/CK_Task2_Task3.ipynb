{
 "cells": [
  {
   "cell_type": "markdown",
   "metadata": {},
   "source": [
    "# KHAI THÁC DỮ LIỆU VÀ KHAI PHÁ TRI THỨC - Nhóm 08 - Final Project\n",
    "\n",
    "Giảng viên: Lê Cung Tưởng\n",
    "\n",
    "Sinh viên: \n",
    "\n",
    "- Nguyễn Minh Đăng Khoa - 51800882\n",
    "\n",
    "\n",
    "- Trần Ngọc Dũng - 51800187"
   ]
  },
  {
   "cell_type": "markdown",
   "metadata": {},
   "source": [
    "# Import Libraries"
   ]
  },
  {
   "cell_type": "code",
   "execution_count": 1,
   "metadata": {},
   "outputs": [],
   "source": [
    "import pandas as pd\n",
    "from pyvi import ViTokenizer\n",
    "import demoji\n",
    "import numpy as np\n",
    "import string\n",
    "import matplotlib.pyplot as plt\n",
    "import seaborn as sns\n",
    "from sklearn.preprocessing import LabelEncoder\n",
    "from sklearn.feature_extraction.text import TfidfVectorizer\n",
    "import nltk\n",
    "\n",
    "from keras import Sequential\n",
    "from keras.layers import Dense\n",
    "from keras.utils import to_categorical\n",
    "from keras.callbacks import EarlyStopping\n",
    "import warnings\n",
    "warnings.filterwarnings('ignore')"
   ]
  },
  {
   "cell_type": "markdown",
   "metadata": {},
   "source": [
    "# Task 2"
   ]
  },
  {
   "cell_type": "markdown",
   "metadata": {},
   "source": [
    "## Read Data"
   ]
  },
  {
   "cell_type": "code",
   "execution_count": 2,
   "metadata": {},
   "outputs": [],
   "source": [
    "filename = \"./UIT-VSMEC/train_nor_811.xlsx\"\n",
    "filename1 = \"./UIT-VSMEC/test_nor_811.xlsx\"\n",
    "filename2 = \"./UIT-VSMEC/valid_nor_811.xlsx\""
   ]
  },
  {
   "cell_type": "code",
   "execution_count": 3,
   "metadata": {},
   "outputs": [],
   "source": [
    "# Vẽ xem phân bố label trong data\n",
    "def plotWithLabel(df, title):\n",
    "    sns.set(rc={'figure.figsize':(12,6)})\n",
    "    plt.title(title)\n",
    "    ax = sns.countplot(df.Emotion)\n",
    "    for p in ax.patches:\n",
    "        height = p.get_height()\n",
    "        width = p.get_width()\n",
    "        ax.text(p.get_x() + width / 2, height + 0.5, height, ha=\"center\", size=15)\n",
    "    plt.show()"
   ]
  },
  {
   "cell_type": "code",
   "execution_count": 4,
   "metadata": {},
   "outputs": [
    {
     "data": {
      "text/html": [
       "<div>\n",
       "<style scoped>\n",
       "    .dataframe tbody tr th:only-of-type {\n",
       "        vertical-align: middle;\n",
       "    }\n",
       "\n",
       "    .dataframe tbody tr th {\n",
       "        vertical-align: top;\n",
       "    }\n",
       "\n",
       "    .dataframe thead th {\n",
       "        text-align: right;\n",
       "    }\n",
       "</style>\n",
       "<table border=\"1\" class=\"dataframe\">\n",
       "  <thead>\n",
       "    <tr style=\"text-align: right;\">\n",
       "      <th></th>\n",
       "      <th>Unnamed: 0</th>\n",
       "      <th>Emotion</th>\n",
       "      <th>Sentence</th>\n",
       "    </tr>\n",
       "  </thead>\n",
       "  <tbody>\n",
       "    <tr>\n",
       "      <th>0</th>\n",
       "      <td>188</td>\n",
       "      <td>Other</td>\n",
       "      <td>cho mình xin bài nhạc tên là gì với ạ</td>\n",
       "    </tr>\n",
       "    <tr>\n",
       "      <th>1</th>\n",
       "      <td>166</td>\n",
       "      <td>Disgust</td>\n",
       "      <td>cho đáng đời con quỷ . về nhà lôi con nhà mày ...</td>\n",
       "    </tr>\n",
       "    <tr>\n",
       "      <th>2</th>\n",
       "      <td>1345</td>\n",
       "      <td>Disgust</td>\n",
       "      <td>lo học đi . yêu đương lol gì hay lại thích học...</td>\n",
       "    </tr>\n",
       "    <tr>\n",
       "      <th>3</th>\n",
       "      <td>316</td>\n",
       "      <td>Enjoyment</td>\n",
       "      <td>uớc gì sau này về già vẫn có thể như cụ này :))</td>\n",
       "    </tr>\n",
       "    <tr>\n",
       "      <th>4</th>\n",
       "      <td>1225</td>\n",
       "      <td>Enjoyment</td>\n",
       "      <td>mỗi lần có video của con là cứ coi đi coi lại ...</td>\n",
       "    </tr>\n",
       "  </tbody>\n",
       "</table>\n",
       "</div>"
      ],
      "text/plain": [
       "   Unnamed: 0    Emotion                                           Sentence\n",
       "0         188      Other              cho mình xin bài nhạc tên là gì với ạ\n",
       "1         166    Disgust  cho đáng đời con quỷ . về nhà lôi con nhà mày ...\n",
       "2        1345    Disgust  lo học đi . yêu đương lol gì hay lại thích học...\n",
       "3         316  Enjoyment    uớc gì sau này về già vẫn có thể như cụ này :))\n",
       "4        1225  Enjoyment  mỗi lần có video của con là cứ coi đi coi lại ..."
      ]
     },
     "execution_count": 4,
     "metadata": {},
     "output_type": "execute_result"
    }
   ],
   "source": [
    "# Train\n",
    "df_train = pd.read_excel(filename)\n",
    "df_train.head()"
   ]
  },
  {
   "cell_type": "code",
   "execution_count": 5,
   "metadata": {},
   "outputs": [
    {
     "data": {
      "image/png": "[encoded data removed]",
      "text/plain": [
       "<Figure size 864x432 with 1 Axes>"
      ]
     },
     "metadata": {},
     "output_type": "display_data"
    }
   ],
   "source": [
    "plotWithLabel(df_train, \"Data Train\")"
   ]
  },
  {
   "cell_type": "code",
   "execution_count": 6,
   "metadata": {},
   "outputs": [
    {
     "data": {
      "text/html": [
       "<div>\n",
       "<style scoped>\n",
       "    .dataframe tbody tr th:only-of-type {\n",
       "        vertical-align: middle;\n",
       "    }\n",
       "\n",
       "    .dataframe tbody tr th {\n",
       "        vertical-align: top;\n",
       "    }\n",
       "\n",
       "    .dataframe thead th {\n",
       "        text-align: right;\n",
       "    }\n",
       "</style>\n",
       "<table border=\"1\" class=\"dataframe\">\n",
       "  <thead>\n",
       "    <tr style=\"text-align: right;\">\n",
       "      <th></th>\n",
       "      <th>Unnamed: 0</th>\n",
       "      <th>Emotion</th>\n",
       "      <th>Sentence</th>\n",
       "    </tr>\n",
       "  </thead>\n",
       "  <tbody>\n",
       "    <tr>\n",
       "      <th>0</th>\n",
       "      <td>713</td>\n",
       "      <td>Sadness</td>\n",
       "      <td>người ta có bạn bè nhìn vui thật</td>\n",
       "    </tr>\n",
       "    <tr>\n",
       "      <th>1</th>\n",
       "      <td>1827</td>\n",
       "      <td>Surprise</td>\n",
       "      <td>cho nghỉ viêc mói đúng sao goi là kỷ luật</td>\n",
       "    </tr>\n",
       "    <tr>\n",
       "      <th>2</th>\n",
       "      <td>1166</td>\n",
       "      <td>Disgust</td>\n",
       "      <td>kinh vãi 😡</td>\n",
       "    </tr>\n",
       "    <tr>\n",
       "      <th>3</th>\n",
       "      <td>228</td>\n",
       "      <td>Fear</td>\n",
       "      <td>nhà thì không xa lắm nhưng chưa bao giờ đi vì ...</td>\n",
       "    </tr>\n",
       "    <tr>\n",
       "      <th>4</th>\n",
       "      <td>1942</td>\n",
       "      <td>Anger</td>\n",
       "      <td>bố không thích nộp đấy mày thích ý kiến không</td>\n",
       "    </tr>\n",
       "  </tbody>\n",
       "</table>\n",
       "</div>"
      ],
      "text/plain": [
       "   Unnamed: 0   Emotion                                           Sentence\n",
       "0         713   Sadness                   người ta có bạn bè nhìn vui thật\n",
       "1        1827  Surprise          cho nghỉ viêc mói đúng sao goi là kỷ luật\n",
       "2        1166   Disgust                                         kinh vãi 😡\n",
       "3         228      Fear  nhà thì không xa lắm nhưng chưa bao giờ đi vì ...\n",
       "4        1942     Anger      bố không thích nộp đấy mày thích ý kiến không"
      ]
     },
     "execution_count": 6,
     "metadata": {},
     "output_type": "execute_result"
    }
   ],
   "source": [
    "# Test\n",
    "df_test = pd.read_excel(filename1)\n",
    "df_test.head()"
   ]
  },
  {
   "cell_type": "code",
   "execution_count": 7,
   "metadata": {},
   "outputs": [
    {
     "data": {
      "image/png": "[encoded data removed]",
      "text/plain": [
       "<Figure size 864x432 with 1 Axes>"
      ]
     },
     "metadata": {},
     "output_type": "display_data"
    }
   ],
   "source": [
    "plotWithLabel(df_test, \"Data Test\")"
   ]
  },
  {
   "cell_type": "code",
   "execution_count": 8,
   "metadata": {},
   "outputs": [
    {
     "data": {
      "text/html": [
       "<div>\n",
       "<style scoped>\n",
       "    .dataframe tbody tr th:only-of-type {\n",
       "        vertical-align: middle;\n",
       "    }\n",
       "\n",
       "    .dataframe tbody tr th {\n",
       "        vertical-align: top;\n",
       "    }\n",
       "\n",
       "    .dataframe thead th {\n",
       "        text-align: right;\n",
       "    }\n",
       "</style>\n",
       "<table border=\"1\" class=\"dataframe\">\n",
       "  <thead>\n",
       "    <tr style=\"text-align: right;\">\n",
       "      <th></th>\n",
       "      <th>Unnamed: 0</th>\n",
       "      <th>Emotion</th>\n",
       "      <th>Sentence</th>\n",
       "    </tr>\n",
       "  </thead>\n",
       "  <tbody>\n",
       "    <tr>\n",
       "      <th>0</th>\n",
       "      <td>941</td>\n",
       "      <td>Other</td>\n",
       "      <td>tính tao tao biết , chẳng có chuyện gì có thể ...</td>\n",
       "    </tr>\n",
       "    <tr>\n",
       "      <th>1</th>\n",
       "      <td>142</td>\n",
       "      <td>Enjoyment</td>\n",
       "      <td>lại là lào cai , tự hào quê mình quá :))</td>\n",
       "    </tr>\n",
       "    <tr>\n",
       "      <th>2</th>\n",
       "      <td>1164</td>\n",
       "      <td>Sadness</td>\n",
       "      <td>bị từ chối rồi</td>\n",
       "    </tr>\n",
       "    <tr>\n",
       "      <th>3</th>\n",
       "      <td>182</td>\n",
       "      <td>Enjoyment</td>\n",
       "      <td>tam đảo trời đẹp các mem à</td>\n",
       "    </tr>\n",
       "    <tr>\n",
       "      <th>4</th>\n",
       "      <td>868</td>\n",
       "      <td>Other</td>\n",
       "      <td>đọc bình luận của thằng đó không thiếu chữ nào 😂😂</td>\n",
       "    </tr>\n",
       "  </tbody>\n",
       "</table>\n",
       "</div>"
      ],
      "text/plain": [
       "   Unnamed: 0    Emotion                                           Sentence\n",
       "0         941      Other  tính tao tao biết , chẳng có chuyện gì có thể ...\n",
       "1         142  Enjoyment           lại là lào cai , tự hào quê mình quá :))\n",
       "2        1164    Sadness                                     bị từ chối rồi\n",
       "3         182  Enjoyment                         tam đảo trời đẹp các mem à\n",
       "4         868      Other  đọc bình luận của thằng đó không thiếu chữ nào 😂😂"
      ]
     },
     "execution_count": 8,
     "metadata": {},
     "output_type": "execute_result"
    }
   ],
   "source": [
    "# Valid\n",
    "df_valid = pd.read_excel(filename2)\n",
    "df_valid.head()"
   ]
  },
  {
   "cell_type": "code",
   "execution_count": 9,
   "metadata": {},
   "outputs": [
    {
     "data": {
      "image/png": "[encoded data removed]",
      "text/plain": [
       "<Figure size 864x432 with 1 Axes>"
      ]
     },
     "metadata": {},
     "output_type": "display_data"
    }
   ],
   "source": [
    "plotWithLabel(df_valid, \"Data Valid\")"
   ]
  },
  {
   "cell_type": "code",
   "execution_count": 10,
   "metadata": {},
   "outputs": [],
   "source": [
    "# Bỏ col \"Unnamed: 0\" ở 3 df\n",
    "df_train.drop(columns=[\"Unnamed: 0\"], inplace=True)\n",
    "df_test.drop(columns=[\"Unnamed: 0\"], inplace=True)\n",
    "df_valid.drop(columns=[\"Unnamed: 0\"], inplace=True)"
   ]
  },
  {
   "cell_type": "code",
   "execution_count": 11,
   "metadata": {},
   "outputs": [
    {
     "name": "stdout",
     "output_type": "stream",
     "text": [
      "Emotion     0\n",
      "Sentence    0\n",
      "dtype: int64\n",
      "Emotion     0\n",
      "Sentence    0\n",
      "dtype: int64\n",
      "Emotion     0\n",
      "Sentence    0\n",
      "dtype: int64\n"
     ]
    }
   ],
   "source": [
    "# kiểm tra có dòng nào null không?\n",
    "print(df_train.isnull().sum())\n",
    "print(df_test.isnull().sum())\n",
    "print(df_valid.isnull().sum())"
   ]
  },
  {
   "cell_type": "markdown",
   "metadata": {},
   "source": [
    "## Preprocessing"
   ]
  },
  {
   "cell_type": "code",
   "execution_count": 12,
   "metadata": {},
   "outputs": [],
   "source": [
    "# demoji.download_codes()"
   ]
  },
  {
   "cell_type": "code",
   "execution_count": 13,
   "metadata": {},
   "outputs": [],
   "source": [
    "# Xóa Emoji\n",
    "df_train[\"new_sentence\"] = df_train.Sentence.apply(lambda x: demoji.replace(x, \"\"))\n",
    "df_test[\"new_sentence\"] = df_test.Sentence.apply(lambda x: demoji.replace(x, \"\"))\n",
    "df_valid[\"new_sentence\"] = df_valid.Sentence.apply(lambda x: demoji.replace(x, \"\"))"
   ]
  },
  {
   "cell_type": "code",
   "execution_count": 14,
   "metadata": {},
   "outputs": [],
   "source": [
    "def text_process(mess):\n",
    "    # chuyển chữ thường\n",
    "    mess = mess.lower()\n",
    "    \n",
    "    # Bỏ những chữ đặc biệt\n",
    "    mess = mess.replace(\"<3\", \"\")\n",
    "    mess = mess.replace(\":3\", \"\")\n",
    "    mess = mess.replace(\"per\", \"\")\n",
    "    \n",
    "    # Replace từ viết tắt\n",
    "    mess = mess.replace(\"ak\", \"à\")\n",
    "    mess = mess.replace(\"ae\", \"anh em\")\n",
    "    mess = mess.replace(\"ko\", \"không\")\n",
    "    mess = mess.replace(\"hs\", \"học sinh\")\n",
    "    mess = mess.replace(\"trog\", \"trong\")\n",
    "    mess = mess.replace(\"cv\", \"công việc\")\n",
    "    mess = mess.replace(\"sgk\", \"sách giáo khoa\")\n",
    "    mess = mess.replace(\"kq\", \"kết quả\")\n",
    "    mess = mess.replace(\"dzầy\", \"vậy\")\n",
    "    mess = mess.replace(\"zay\", \"vậy\")\n",
    "    mess = mess.replace(\"vầy\", \"vậy\")\n",
    "    mess = mess.replace(\"zậy\", \"vậy\")\n",
    "    mess = mess.replace(\"mj\", \"mày\")\n",
    "    mess = mess.replace(\"nyc\", \"người yêu cũ\")\n",
    "    mess = mess.replace(\"del\", \"đéo\")\n",
    "    mess = mess.replace(\"địt mẹ\", \"dm\")\n",
    "    mess = mess.replace(\"đụ mẹ\", \"dm\")\n",
    "    mess = mess.replace(\"đcm\", \"dm\")\n",
    "    mess = mess.replace(\"dkm\", \"dm\")\n",
    "    mess = mess.replace(\"đkm\", \"dm\")\n",
    "    mess = mess.replace(\"dume\", \"dm\")\n",
    "    mess = mess.replace(\"dme\", \"dm\")\n",
    "    mess = mess.replace(\"đm\", \"dm\")\n",
    "    mess = mess.replace(\"mún\", \"muốn\")\n",
    "    mess = mess.replace(\"pv\", \"phục vụ\")\n",
    "    mess = mess.replace(\"huhuhu\", \"huhu\")\n",
    "    mess = mess.replace(\"ahuhuhu\", \"huhu\")\n",
    "    mess = mess.replace(\"hjxhjx\", \"huhu\")\n",
    "    mess = mess.replace(\"hiccc\", \"huhu\")\n",
    "    mess = mess.replace(\"híc híc\", \"huhu\")\n",
    "    mess = mess.replace(\"hix\", \"huhu\")\n",
    "    mess = mess.replace(\"vớiiiiii\", \"với\")\n",
    "    mess = mess.replace(\"vớiiiii\", \"với\")\n",
    "    mess = mess.replace(\"vớiiii\", \"với\")\n",
    "    mess = mess.replace(\"vớiii\", \"với\")\n",
    "    mess = mess.replace(\"vớii\", \"với\")\n",
    "    mess = mess.replace(\"hmmmmmmm\", \"hmm\")\n",
    "    mess = mess.replace(\"hhhhhhhhhhhhhhhhhhhhhhh\", \"haha\")\n",
    "    mess = mess.replace(\"ha ha\", \"haha\")\n",
    "    mess = mess.replace(\"hahahaha\", \"haha\")\n",
    "    mess = mess.replace(\"hahaha\", \"haha\")\n",
    "    mess = mess.replace(\"hahaaaa\", \"haha\")\n",
    "    mess = mess.replace(\"kkkkk\", \"haha\")\n",
    "    mess = mess.replace(\"kkkk\", \"haha\")\n",
    "    mess = mess.replace(\"kkk\", \"haha\")\n",
    "    mess = mess.replace(\"kk\", \"haha\")\n",
    "    mess = mess.replace(\"hihihihi\", \"haha\")\n",
    "    mess = mess.replace(\"hihihi\", \"haha\")\n",
    "    mess = mess.replace(\"hihi\", \"haha\")\n",
    "    mess = mess.replace(\"hí hí\", \"haha\")\n",
    "    mess = mess.replace(\"ahihi\", \"haha\")\n",
    "    mess = mess.replace(\"záy\", \"váy\")\n",
    "    mess = mess.replace(\"ukm\", \"ừ\")\n",
    "    mess = mess.replace(\"đag\", \"đang\")\n",
    "    mess = mess.replace(\"saoooo\", \"sao\")\n",
    "    mess = mess.replace(\"traiiii\", \"trai\")\n",
    "    mess = mess.replace(\"troai\", \"trai\")\n",
    "    mess = mess.replace(\"đấyyyyy\", \"đấy\")\n",
    "    mess = mess.replace(\"nhaaaaaaaa\", \"nha\")\n",
    "    mess = mess.replace(\"hơm\", \"không\")\n",
    "    mess = mess.replace(\"thươnggg\", \"thương\")\n",
    "    mess = mess.replace(\"tk\", \"thằng\")\n",
    "    mess = mess.replace(\"vlllll\", \"vl\")\n",
    "    mess = mess.replace(\"vllll\", \"vl\")\n",
    "    mess = mess.replace(\"vlll\", \"vl\")\n",
    "    mess = mess.replace(\"vll\", \"vl\")\n",
    "    mess = mess.replace(\"vailon\", \"vl\")\n",
    "    mess = mess.replace(\"vailol\", \"vl\")\n",
    "    mess = mess.replace(\"lol\", \"vl\")\n",
    "    mess = mess.replace(\"vlon\", \"vl\")\n",
    "    mess = mess.replace(\"vãi lozzzz\", \"vl\")\n",
    "    mess = mess.replace(\"vkl\", \"vl\")\n",
    "    mess = mess.replace(\"vchhhh\", \"vl\")\n",
    "    mess = mess.replace(\"vchhh\", \"vl\")\n",
    "    mess = mess.replace(\"vchh\", \"vl\")\n",
    "    mess = mess.replace(\"vcllll\", \"vl\")\n",
    "    mess = mess.replace(\"vclll\", \"vl\")\n",
    "    mess = mess.replace(\"vcll\", \"vl\")\n",
    "    mess = mess.replace(\"tks\", \"cám ơn\")\n",
    "    mess = mess.replace(\"đc\", \"được\")\n",
    "    mess = mess.replace(\"dc\", \"được\")\n",
    "    mess = mess.replace(\"đx\", \"được\")\n",
    "    mess = mess.replace(\"vãiiii\", \"vãi\")\n",
    "    mess = mess.replace(\"iemm\", \"em\")\n",
    "    mess = mess.replace(\"chuỵ\", \"chị\")\n",
    "    mess = mess.replace(\"hỏg\", \"hỏng\")\n",
    "    mess = mess.replace(\"rồiiiii\", \"rồi\")\n",
    "    mess = mess.replace(\"rồiiii\", \"rồi\")\n",
    "    mess = mess.replace(\"rồiii\", \"rồi\")\n",
    "    mess = mess.replace(\"rồii\", \"rồi\")\n",
    "    mess = mess.replace(\"caooooo\", \"cao\")\n",
    "    mess = mess.replace(\"ỏoo\", \"ỏ\")\n",
    "    mess = mess.replace(\"trờiiiiii\", \"trời\")\n",
    "    mess = mess.replace(\"trờiiiii\", \"trời\")\n",
    "    mess = mess.replace(\"trờiiii\", \"trời\")\n",
    "    mess = mess.replace(\"trờiii\", \"trời\")\n",
    "    mess = mess.replace(\"trờii\", \"trời\")\n",
    "    mess = mess.replace(\"chờiiiii\", \"trời\")\n",
    "    mess = mess.replace(\"chờiiii\", \"trời\")\n",
    "    mess = mess.replace(\"chờiii\", \"trời\")\n",
    "    mess = mess.replace(\"chờii\", \"trời\")\n",
    "    mess = mess.replace(\"tayyy\", \"tay\")\n",
    "    mess = mess.replace(\"tayy\", \"tay\")\n",
    "    mess = mess.replace(\"ngta\", \"người ta\")\n",
    "    mess = mess.replace(\"vn\", \"việt nam\")\n",
    "    mess = mess.replace(\"gê\", \"ghê\")\n",
    "    mess = mess.replace(\"gheê\", \"ghê\")\n",
    "    mess = mess.replace(\"nổiiiii\", \"nổi\")\n",
    "    mess = mess.replace(\"nổiiii\", \"nổi\")\n",
    "    mess = mess.replace(\"nổiii\", \"nổi\")\n",
    "    mess = mess.replace(\"nổii\", \"nổi\")\n",
    "    mess = mess.replace(\"thik\", \"thích\")\n",
    "    mess = mess.replace(\"cx\", \"cũng\")\n",
    "    mess = mess.replace(\"owiiiiii\", \"ơi\")\n",
    "    mess = mess.replace(\"trc\", \"trước\")\n",
    "    mess = mess.replace(\"wá\", \"quá\")\n",
    "    mess = mess.replace(\"you\", \"bạn\")\n",
    "    mess = mess.replace(\"why\", \"tại sao\")\n",
    "    mess = mess.replace(\"miss\", \"nhớ\")\n",
    "    mess = mess.replace(\"topic\", \"chủ đề\")\n",
    "    mess = mess.replace(\"hello\", \"xin chào\")\n",
    "    mess = mess.replace(\"adim\", \"admin\")\n",
    "    \n",
    "    \n",
    "    # Loại bỏ whitespace 2 đầu của mess\n",
    "    mess = mess.strip()\n",
    "    \n",
    "    # Xóa dấu câu\n",
    "    mess = [char for char in mess if char not in string.punctuation]\n",
    "    mess = ''.join(mess)\n",
    "    \n",
    "    # replace whitespace\n",
    "    mess = mess.replace(\"   \", \" \")\n",
    "    mess = mess.replace(\"  \", \" \")\n",
    "    \n",
    "    # Word Segmentation\n",
    "    mess = ViTokenizer.tokenize(mess)\n",
    "    \n",
    "    return mess"
   ]
  },
  {
   "cell_type": "code",
   "execution_count": 15,
   "metadata": {},
   "outputs": [],
   "source": [
    "df_train[\"new_sentence1\"] = df_train.new_sentence.apply(text_process)\n",
    "df_test[\"new_sentence1\"] = df_test.new_sentence.apply(text_process)\n",
    "df_valid[\"new_sentence1\"] = df_valid.new_sentence.apply(text_process)"
   ]
  },
  {
   "cell_type": "code",
   "execution_count": 16,
   "metadata": {},
   "outputs": [],
   "source": [
    "# Chuyển clean text về Sentence, xóa 2 col new_sentence1, new_sentence\n",
    "# Train\n",
    "df_train.Sentence = df_train.new_sentence1\n",
    "df_train.drop(columns=[\"new_sentence\"], inplace=True)\n",
    "df_train.drop(columns=[\"new_sentence1\"], inplace=True)\n",
    "\n",
    "# Test\n",
    "df_test.Sentence = df_test.new_sentence1\n",
    "df_test.drop(columns=[\"new_sentence\"], inplace=True)\n",
    "df_test.drop(columns=[\"new_sentence1\"], inplace=True)\n",
    "\n",
    "# Valid\n",
    "df_valid.Sentence = df_valid.new_sentence1\n",
    "df_valid.drop(columns=[\"new_sentence\"], inplace=True)\n",
    "df_valid.drop(columns=[\"new_sentence1\"], inplace=True)\n",
    "\n",
    "# df_train.to_excel('trainData.xlsx')"
   ]
  },
  {
   "cell_type": "markdown",
   "metadata": {},
   "source": [
    "## Normalize"
   ]
  },
  {
   "cell_type": "code",
   "execution_count": 17,
   "metadata": {},
   "outputs": [],
   "source": [
    "encoder = LabelEncoder()"
   ]
  },
  {
   "cell_type": "code",
   "execution_count": 18,
   "metadata": {},
   "outputs": [
    {
     "data": {
      "text/html": [
       "<div>\n",
       "<style scoped>\n",
       "    .dataframe tbody tr th:only-of-type {\n",
       "        vertical-align: middle;\n",
       "    }\n",
       "\n",
       "    .dataframe tbody tr th {\n",
       "        vertical-align: top;\n",
       "    }\n",
       "\n",
       "    .dataframe thead th {\n",
       "        text-align: right;\n",
       "    }\n",
       "</style>\n",
       "<table border=\"1\" class=\"dataframe\">\n",
       "  <thead>\n",
       "    <tr style=\"text-align: right;\">\n",
       "      <th></th>\n",
       "      <th>Emotion</th>\n",
       "      <th>Sentence</th>\n",
       "    </tr>\n",
       "  </thead>\n",
       "  <tbody>\n",
       "    <tr>\n",
       "      <th>0</th>\n",
       "      <td>4</td>\n",
       "      <td>cho mình xin bài nhạc tên là gì với ạ</td>\n",
       "    </tr>\n",
       "    <tr>\n",
       "      <th>1</th>\n",
       "      <td>1</td>\n",
       "      <td>cho đáng_đời con quỷ về nhà lôi con nhà mày ra...</td>\n",
       "    </tr>\n",
       "    <tr>\n",
       "      <th>2</th>\n",
       "      <td>1</td>\n",
       "      <td>lo học đi yêu_đương vl gì hay lại thích học_si...</td>\n",
       "    </tr>\n",
       "    <tr>\n",
       "      <th>3</th>\n",
       "      <td>2</td>\n",
       "      <td>uớc gì sau_này về già vẫn có_thể như cụ này</td>\n",
       "    </tr>\n",
       "    <tr>\n",
       "      <th>4</th>\n",
       "      <td>2</td>\n",
       "      <td>mỗi lần có video của con là cứ coi đi coi lại ...</td>\n",
       "    </tr>\n",
       "  </tbody>\n",
       "</table>\n",
       "</div>"
      ],
      "text/plain": [
       "   Emotion                                           Sentence\n",
       "0        4              cho mình xin bài nhạc tên là gì với ạ\n",
       "1        1  cho đáng_đời con quỷ về nhà lôi con nhà mày ra...\n",
       "2        1  lo học đi yêu_đương vl gì hay lại thích học_si...\n",
       "3        2        uớc gì sau_này về già vẫn có_thể như cụ này\n",
       "4        2  mỗi lần có video của con là cứ coi đi coi lại ..."
      ]
     },
     "execution_count": 18,
     "metadata": {},
     "output_type": "execute_result"
    }
   ],
   "source": [
    "# Chuẩn hóa train\n",
    "df_train.Emotion = encoder.fit_transform(df_train.Emotion)\n",
    "df_train.head()"
   ]
  },
  {
   "cell_type": "code",
   "execution_count": 19,
   "metadata": {},
   "outputs": [
    {
     "data": {
      "text/html": [
       "<div>\n",
       "<style scoped>\n",
       "    .dataframe tbody tr th:only-of-type {\n",
       "        vertical-align: middle;\n",
       "    }\n",
       "\n",
       "    .dataframe tbody tr th {\n",
       "        vertical-align: top;\n",
       "    }\n",
       "\n",
       "    .dataframe thead th {\n",
       "        text-align: right;\n",
       "    }\n",
       "</style>\n",
       "<table border=\"1\" class=\"dataframe\">\n",
       "  <thead>\n",
       "    <tr style=\"text-align: right;\">\n",
       "      <th></th>\n",
       "      <th>Emotion</th>\n",
       "      <th>Sentence</th>\n",
       "    </tr>\n",
       "  </thead>\n",
       "  <tbody>\n",
       "    <tr>\n",
       "      <th>0</th>\n",
       "      <td>5</td>\n",
       "      <td>người_ta có bạn_bè nhìn vui thật</td>\n",
       "    </tr>\n",
       "    <tr>\n",
       "      <th>1</th>\n",
       "      <td>6</td>\n",
       "      <td>cho nghỉ viêc mói đúng sao goi là kỷ_luật</td>\n",
       "    </tr>\n",
       "    <tr>\n",
       "      <th>2</th>\n",
       "      <td>1</td>\n",
       "      <td>kinh vãi</td>\n",
       "    </tr>\n",
       "    <tr>\n",
       "      <th>3</th>\n",
       "      <td>3</td>\n",
       "      <td>nhà thì không xa lắm nhưng chưa bao_giờ đi vì ...</td>\n",
       "    </tr>\n",
       "    <tr>\n",
       "      <th>4</th>\n",
       "      <td>0</td>\n",
       "      <td>bố không thích nộp đấy mày thích ý_kiến không</td>\n",
       "    </tr>\n",
       "  </tbody>\n",
       "</table>\n",
       "</div>"
      ],
      "text/plain": [
       "   Emotion                                           Sentence\n",
       "0        5                   người_ta có bạn_bè nhìn vui thật\n",
       "1        6          cho nghỉ viêc mói đúng sao goi là kỷ_luật\n",
       "2        1                                           kinh vãi\n",
       "3        3  nhà thì không xa lắm nhưng chưa bao_giờ đi vì ...\n",
       "4        0      bố không thích nộp đấy mày thích ý_kiến không"
      ]
     },
     "execution_count": 19,
     "metadata": {},
     "output_type": "execute_result"
    }
   ],
   "source": [
    "# Chuẩn hóa test\n",
    "df_test.Emotion = encoder.fit_transform(df_test.Emotion)\n",
    "df_test.head()"
   ]
  },
  {
   "cell_type": "code",
   "execution_count": 20,
   "metadata": {},
   "outputs": [
    {
     "data": {
      "text/html": [
       "<div>\n",
       "<style scoped>\n",
       "    .dataframe tbody tr th:only-of-type {\n",
       "        vertical-align: middle;\n",
       "    }\n",
       "\n",
       "    .dataframe tbody tr th {\n",
       "        vertical-align: top;\n",
       "    }\n",
       "\n",
       "    .dataframe thead th {\n",
       "        text-align: right;\n",
       "    }\n",
       "</style>\n",
       "<table border=\"1\" class=\"dataframe\">\n",
       "  <thead>\n",
       "    <tr style=\"text-align: right;\">\n",
       "      <th></th>\n",
       "      <th>Emotion</th>\n",
       "      <th>Sentence</th>\n",
       "    </tr>\n",
       "  </thead>\n",
       "  <tbody>\n",
       "    <tr>\n",
       "      <th>0</th>\n",
       "      <td>4</td>\n",
       "      <td>tính tao tao biết chẳng có chuyện gì có_thể là...</td>\n",
       "    </tr>\n",
       "    <tr>\n",
       "      <th>1</th>\n",
       "      <td>2</td>\n",
       "      <td>lại là lào cai tự_hào quê mình quá</td>\n",
       "    </tr>\n",
       "    <tr>\n",
       "      <th>2</th>\n",
       "      <td>5</td>\n",
       "      <td>bị từ_chối rồi</td>\n",
       "    </tr>\n",
       "    <tr>\n",
       "      <th>3</th>\n",
       "      <td>2</td>\n",
       "      <td>tam_đảo trời đẹp các mem à</td>\n",
       "    </tr>\n",
       "    <tr>\n",
       "      <th>4</th>\n",
       "      <td>4</td>\n",
       "      <td>đọc bình_luận của thằng đó không thiếu chữ nào</td>\n",
       "    </tr>\n",
       "  </tbody>\n",
       "</table>\n",
       "</div>"
      ],
      "text/plain": [
       "   Emotion                                           Sentence\n",
       "0        4  tính tao tao biết chẳng có chuyện gì có_thể là...\n",
       "1        2                 lại là lào cai tự_hào quê mình quá\n",
       "2        5                                     bị từ_chối rồi\n",
       "3        2                         tam_đảo trời đẹp các mem à\n",
       "4        4     đọc bình_luận của thằng đó không thiếu chữ nào"
      ]
     },
     "execution_count": 20,
     "metadata": {},
     "output_type": "execute_result"
    }
   ],
   "source": [
    "# Chuẩn hóa valid\n",
    "df_valid.Emotion = encoder.fit_transform(df_valid.Emotion)\n",
    "df_valid.head()"
   ]
  },
  {
   "cell_type": "code",
   "execution_count": 21,
   "metadata": {},
   "outputs": [],
   "source": [
    "# Train - tách Sentence ra data, Emotion ra label\n",
    "data_train = []\n",
    "label_train = []\n",
    "for i in range(len(df_train)):\n",
    "    data_train.append(df_train.Sentence[i])\n",
    "    label_train.append(df_train.Emotion[i])"
   ]
  },
  {
   "cell_type": "code",
   "execution_count": 22,
   "metadata": {},
   "outputs": [],
   "source": [
    "# Test - tách Sentence ra data, Emotion ra label\n",
    "data_test = []\n",
    "label_test = []\n",
    "for i in range(len(df_test)):\n",
    "    data_test.append(df_test.Sentence[i])\n",
    "    label_test.append(df_test.Emotion[i])"
   ]
  },
  {
   "cell_type": "code",
   "execution_count": 23,
   "metadata": {},
   "outputs": [],
   "source": [
    "# Valid - tách Sentence ra data, Emotion ra label\n",
    "data_valid = []\n",
    "label_valid = []\n",
    "for i in range(len(df_valid)):\n",
    "    data_valid.append(df_valid.Sentence[i])\n",
    "    label_valid.append(df_valid.Emotion[i])"
   ]
  },
  {
   "cell_type": "markdown",
   "metadata": {},
   "source": [
    "## TF-IDF Vectorizer"
   ]
  },
  {
   "cell_type": "code",
   "execution_count": 24,
   "metadata": {},
   "outputs": [
    {
     "data": {
      "text/plain": [
       "TfidfVectorizer(max_features=3000,\n",
       "                tokenizer=<function word_tokenize at 0x000001E3119DD700>)"
      ]
     },
     "execution_count": 24,
     "metadata": {},
     "output_type": "execute_result"
    }
   ],
   "source": [
    "# Sử dụng TF-IDF Vectorizer dùng tokenizer của nltk và giới hạn max_features=3000\n",
    "vectorizer = TfidfVectorizer(tokenizer=nltk.word_tokenize, max_features=3000)\n",
    "vectorizer.fit(data_train)"
   ]
  },
  {
   "cell_type": "code",
   "execution_count": 26,
   "metadata": {},
   "outputs": [
    {
     "name": "stdout",
     "output_type": "stream",
     "text": [
      "(5548, 3000)\n"
     ]
    }
   ],
   "source": [
    "# Vector hóa\n",
    "X_train = vectorizer.transform(data_train).toarray()\n",
    "print(X_train.shape)"
   ]
  },
  {
   "cell_type": "code",
   "execution_count": 27,
   "metadata": {},
   "outputs": [
    {
     "name": "stdout",
     "output_type": "stream",
     "text": [
      "(5548, 7)\n"
     ]
    }
   ],
   "source": [
    "# one-hot enncoding cho label\n",
    "y_train = to_categorical(label_train)\n",
    "print(y_train.shape)"
   ]
  },
  {
   "cell_type": "code",
   "execution_count": 28,
   "metadata": {},
   "outputs": [
    {
     "name": "stdout",
     "output_type": "stream",
     "text": [
      "(686, 3000)\n"
     ]
    }
   ],
   "source": [
    "X_valid = vectorizer.transform(data_valid).toarray()\n",
    "print(X_valid.shape)"
   ]
  },
  {
   "cell_type": "code",
   "execution_count": 29,
   "metadata": {},
   "outputs": [
    {
     "name": "stdout",
     "output_type": "stream",
     "text": [
      "(686, 7)\n"
     ]
    }
   ],
   "source": [
    "y_valid = to_categorical(label_valid)\n",
    "print(y_valid.shape)"
   ]
  },
  {
   "cell_type": "code",
   "execution_count": 30,
   "metadata": {},
   "outputs": [
    {
     "name": "stdout",
     "output_type": "stream",
     "text": [
      "(693, 3000)\n"
     ]
    }
   ],
   "source": [
    "X_test = vectorizer.transform(data_test).toarray()\n",
    "print(X_test.shape)"
   ]
  },
  {
   "cell_type": "code",
   "execution_count": 31,
   "metadata": {},
   "outputs": [
    {
     "name": "stdout",
     "output_type": "stream",
     "text": [
      "(693, 7)\n"
     ]
    }
   ],
   "source": [
    "y_test = to_categorical(label_test)\n",
    "print(y_test.shape)"
   ]
  },
  {
   "cell_type": "markdown",
   "metadata": {},
   "source": [
    "## Model Neural Network"
   ]
  },
  {
   "cell_type": "code",
   "execution_count": 32,
   "metadata": {},
   "outputs": [
    {
     "name": "stdout",
     "output_type": "stream",
     "text": [
      "Model: \"sequential\"\n",
      "_________________________________________________________________\n",
      "Layer (type)                 Output Shape              Param #   \n",
      "=================================================================\n",
      "dense (Dense)                (None, 256)               768256    \n",
      "_________________________________________________________________\n",
      "dense_1 (Dense)              (None, 7)                 1799      \n",
      "=================================================================\n",
      "Total params: 770,055\n",
      "Trainable params: 770,055\n",
      "Non-trainable params: 0\n",
      "_________________________________________________________________\n"
     ]
    }
   ],
   "source": [
    "# Khởi tạo model bằng Sequential của Keras\n",
    "# Layer Dense đầu tiên với unit=256, input_dim là features của train, hàm kích hoạt: relu\n",
    "# Thêm 1 Layer Dense với unit=7 - là đầu ra của model với hàm kích hoạt: relu\n",
    "# compile với loss=\"binary_crossentropy\", optimizer=\"adam\", metrics=\"accuracy\"\n",
    "\n",
    "model = Sequential()\n",
    "model.add(Dense(256, input_dim=X_train.shape[1], activation='relu'))\n",
    "model.add(Dense(7, activation='relu'))\n",
    "model.compile(optimizer='adam',loss='binary_crossentropy',metrics=['accuracy'])\n",
    "model.summary()"
   ]
  },
  {
   "cell_type": "code",
   "execution_count": 33,
   "metadata": {},
   "outputs": [],
   "source": [
    "# earlyStopping tránh overfitting - monitor=\"val_loss\", \n",
    "# patience=3 (quá 3 epochs nếu val_loss không cải thiện thì dừng training)\n",
    "earlyStopping = EarlyStopping(monitor=\"val_loss\", patience=3)"
   ]
  },
  {
   "cell_type": "code",
   "execution_count": 34,
   "metadata": {
    "scrolled": true
   },
   "outputs": [
    {
     "name": "stdout",
     "output_type": "stream",
     "text": [
      "Epoch 1/50\n",
      "174/174 [==============================] - 4s 18ms/step - loss: 0.5182 - accuracy: 0.3260 - val_loss: 0.3289 - val_accuracy: 0.4971\n",
      "Epoch 2/50\n",
      "174/174 [==============================] - 1s 7ms/step - loss: 0.2657 - accuracy: 0.6968 - val_loss: 0.3663 - val_accuracy: 0.5073\n",
      "Epoch 3/50\n",
      "174/174 [==============================] - 2s 10ms/step - loss: 0.1971 - accuracy: 0.7850 - val_loss: 0.4351 - val_accuracy: 0.5087\n",
      "Epoch 4/50\n",
      "174/174 [==============================] - 2s 9ms/step - loss: 0.1421 - accuracy: 0.8659 - val_loss: 0.5668 - val_accuracy: 0.5131\n"
     ]
    }
   ],
   "source": [
    "# Training model\n",
    "history = model.fit(X_train, y_train,\n",
    "                    epochs=50,\n",
    "                    verbose=1,\n",
    "                    validation_data=(X_valid, y_valid),\n",
    "                    batch_size=32,\n",
    "                   callbacks=[earlyStopping])"
   ]
  },
  {
   "cell_type": "code",
   "execution_count": 35,
   "metadata": {},
   "outputs": [
    {
     "name": "stdout",
     "output_type": "stream",
     "text": [
      "Training Accuracy: 0.9198\n",
      "Testing Accuracy:  0.5354\n",
      "Valid Accuracy:  0.5131\n"
     ]
    }
   ],
   "source": [
    "loss, accuracy = model.evaluate(X_train, y_train, verbose=False)\n",
    "print(\"Training Accuracy: {:.4f}\".format(accuracy))\n",
    "loss, accuracy = model.evaluate(X_test, y_test, verbose=False)\n",
    "print(\"Testing Accuracy:  {:.4f}\".format(accuracy))\n",
    "loss, accuracy = model.evaluate(X_valid, y_valid, verbose=False)\n",
    "print(\"Valid Accuracy:  {:.4f}\".format(accuracy))"
   ]
  },
  {
   "cell_type": "code",
   "execution_count": 36,
   "metadata": {},
   "outputs": [
    {
     "data": {
      "text/plain": [
       "<matplotlib.legend.Legend at 0x1e331d30be0>"
      ]
     },
     "execution_count": 36,
     "metadata": {},
     "output_type": "execute_result"
    },
    {
     "data": {
      "image/png": "[encoded data removed]",
      "text/plain": [
       "<Figure size 864x432 with 2 Axes>"
      ]
     },
     "metadata": {},
     "output_type": "display_data"
    }
   ],
   "source": [
    "# Vẽ loss và accuracy của training và validation\n",
    "plt.figure(figsize=(12, 6))\n",
    "\n",
    "plt.subplot(1, 2, 1)\n",
    "plt.plot(history.history['accuracy'], 'b', label='Training acc')\n",
    "plt.plot(history.history['val_accuracy'], 'r', label='Validation acc')\n",
    "plt.title('Training and validation accuracy')\n",
    "plt.legend()\n",
    "\n",
    "plt.subplot(1, 2, 2)\n",
    "plt.plot(history.history['loss'], 'b', label='Training loss')\n",
    "plt.plot(history.history['val_loss'], 'r', label='Validation loss')\n",
    "plt.title('Training and validation loss')\n",
    "plt.legend()"
   ]
  },
  {
   "cell_type": "markdown",
   "metadata": {},
   "source": [
    "## Predict test"
   ]
  },
  {
   "cell_type": "code",
   "execution_count": 37,
   "metadata": {},
   "outputs": [],
   "source": [
    "# Sử dụng model để predict\n",
    "y_pred = model.predict(X_test)"
   ]
  },
  {
   "cell_type": "code",
   "execution_count": 38,
   "metadata": {},
   "outputs": [],
   "source": [
    "y_pred1 = np.argmax(y_pred, axis=1)"
   ]
  },
  {
   "cell_type": "code",
   "execution_count": 39,
   "metadata": {},
   "outputs": [
    {
     "name": "stdout",
     "output_type": "stream",
     "text": [
      "              precision    recall  f1-score   support\n",
      "\n",
      "           0       0.33      0.23      0.27        40\n",
      "           1       0.51      0.62      0.56       132\n",
      "           2       0.59      0.63      0.61       193\n",
      "           3       0.77      0.59      0.67        46\n",
      "           4       0.44      0.42      0.43       129\n",
      "           5       0.52      0.58      0.55       116\n",
      "           6       0.85      0.30      0.44        37\n",
      "\n",
      "    accuracy                           0.54       693\n",
      "   macro avg       0.57      0.48      0.50       693\n",
      "weighted avg       0.55      0.54      0.53       693\n",
      "\n"
     ]
    }
   ],
   "source": [
    "# Báo cáo độ chính xác\n",
    "from sklearn.metrics import classification_report\n",
    "\n",
    "print(classification_report(label_test, y_pred1))"
   ]
  },
  {
   "cell_type": "code",
   "execution_count": null,
   "metadata": {},
   "outputs": [],
   "source": []
  },
  {
   "cell_type": "markdown",
   "metadata": {},
   "source": [
    "# Task3: Data Crawl on Youtube"
   ]
  },
  {
   "cell_type": "markdown",
   "metadata": {},
   "source": [
    "## Read data"
   ]
  },
  {
   "cell_type": "code",
   "execution_count": 65,
   "metadata": {},
   "outputs": [
    {
     "data": {
      "text/html": [
       "<div>\n",
       "<style scoped>\n",
       "    .dataframe tbody tr th:only-of-type {\n",
       "        vertical-align: middle;\n",
       "    }\n",
       "\n",
       "    .dataframe tbody tr th {\n",
       "        vertical-align: top;\n",
       "    }\n",
       "\n",
       "    .dataframe thead th {\n",
       "        text-align: right;\n",
       "    }\n",
       "</style>\n",
       "<table border=\"1\" class=\"dataframe\">\n",
       "  <thead>\n",
       "    <tr style=\"text-align: right;\">\n",
       "      <th></th>\n",
       "      <th>Unnamed: 0</th>\n",
       "      <th>Emotion</th>\n",
       "      <th>Sentence</th>\n",
       "    </tr>\n",
       "  </thead>\n",
       "  <tbody>\n",
       "    <tr>\n",
       "      <th>0</th>\n",
       "      <td>0</td>\n",
       "      <td>Enjoyment</td>\n",
       "      <td>mình tuyên_bố ở việt nam giọng đã hay thì cầm ...</td>\n",
       "    </tr>\n",
       "    <tr>\n",
       "      <th>1</th>\n",
       "      <td>1</td>\n",
       "      <td>Other</td>\n",
       "      <td>mọi người hát karaoke beat phối mới mặt_trời c...</td>\n",
       "    </tr>\n",
       "    <tr>\n",
       "      <th>2</th>\n",
       "      <td>2</td>\n",
       "      <td>Enjoyment</td>\n",
       "      <td>ở việt nam cầm muỗng hát cũng là ca_sĩ nhá</td>\n",
       "    </tr>\n",
       "    <tr>\n",
       "      <th>3</th>\n",
       "      <td>3</td>\n",
       "      <td>Enjoyment</td>\n",
       "      <td>có ai thấy bản live này hay hơn bản_chính không</td>\n",
       "    </tr>\n",
       "    <tr>\n",
       "      <th>4</th>\n",
       "      <td>4</td>\n",
       "      <td>Enjoyment</td>\n",
       "      <td>tại_sao trước đây tôi lại không biết đến sự tồ...</td>\n",
       "    </tr>\n",
       "  </tbody>\n",
       "</table>\n",
       "</div>"
      ],
      "text/plain": [
       "   Unnamed: 0    Emotion                                           Sentence\n",
       "0           0  Enjoyment  mình tuyên_bố ở việt nam giọng đã hay thì cầm ...\n",
       "1           1      Other  mọi người hát karaoke beat phối mới mặt_trời c...\n",
       "2           2  Enjoyment         ở việt nam cầm muỗng hát cũng là ca_sĩ nhá\n",
       "3           3  Enjoyment    có ai thấy bản live này hay hơn bản_chính không\n",
       "4           4  Enjoyment  tại_sao trước đây tôi lại không biết đến sự tồ..."
      ]
     },
     "execution_count": 65,
     "metadata": {},
     "output_type": "execute_result"
    }
   ],
   "source": [
    "# Đọc 3 file excel và gom vào 1 dataframe\n",
    "allFiles = [\"./YoutubeData/cleanVideoData1.xlsx\",\n",
    "           \"./YoutubeData/cleanVideoData2.xlsx\", \n",
    "           \"./YoutubeData/cleanVideoData3.xlsx\"]\n",
    "\n",
    "list_df = []\n",
    "\n",
    "for filename in allFiles:\n",
    "    df_youtube = pd.read_excel(filename)\n",
    "    list_df.append(df_youtube)\n",
    "\n",
    "frame = pd.concat(list_df, axis=0, ignore_index=True)\n",
    "frame.head()"
   ]
  },
  {
   "cell_type": "code",
   "execution_count": 66,
   "metadata": {},
   "outputs": [
    {
     "data": {
      "text/html": [
       "<div>\n",
       "<style scoped>\n",
       "    .dataframe tbody tr th:only-of-type {\n",
       "        vertical-align: middle;\n",
       "    }\n",
       "\n",
       "    .dataframe tbody tr th {\n",
       "        vertical-align: top;\n",
       "    }\n",
       "\n",
       "    .dataframe thead th {\n",
       "        text-align: right;\n",
       "    }\n",
       "</style>\n",
       "<table border=\"1\" class=\"dataframe\">\n",
       "  <thead>\n",
       "    <tr style=\"text-align: right;\">\n",
       "      <th></th>\n",
       "      <th>Emotion</th>\n",
       "      <th>Sentence</th>\n",
       "    </tr>\n",
       "  </thead>\n",
       "  <tbody>\n",
       "    <tr>\n",
       "      <th>0</th>\n",
       "      <td>Enjoyment</td>\n",
       "      <td>mình tuyên_bố ở việt nam giọng đã hay thì cầm ...</td>\n",
       "    </tr>\n",
       "    <tr>\n",
       "      <th>1</th>\n",
       "      <td>Other</td>\n",
       "      <td>mọi người hát karaoke beat phối mới mặt_trời c...</td>\n",
       "    </tr>\n",
       "    <tr>\n",
       "      <th>2</th>\n",
       "      <td>Enjoyment</td>\n",
       "      <td>ở việt nam cầm muỗng hát cũng là ca_sĩ nhá</td>\n",
       "    </tr>\n",
       "    <tr>\n",
       "      <th>3</th>\n",
       "      <td>Enjoyment</td>\n",
       "      <td>có ai thấy bản live này hay hơn bản_chính không</td>\n",
       "    </tr>\n",
       "    <tr>\n",
       "      <th>4</th>\n",
       "      <td>Enjoyment</td>\n",
       "      <td>tại_sao trước đây tôi lại không biết đến sự tồ...</td>\n",
       "    </tr>\n",
       "  </tbody>\n",
       "</table>\n",
       "</div>"
      ],
      "text/plain": [
       "     Emotion                                           Sentence\n",
       "0  Enjoyment  mình tuyên_bố ở việt nam giọng đã hay thì cầm ...\n",
       "1      Other  mọi người hát karaoke beat phối mới mặt_trời c...\n",
       "2  Enjoyment         ở việt nam cầm muỗng hát cũng là ca_sĩ nhá\n",
       "3  Enjoyment    có ai thấy bản live này hay hơn bản_chính không\n",
       "4  Enjoyment  tại_sao trước đây tôi lại không biết đến sự tồ..."
      ]
     },
     "execution_count": 66,
     "metadata": {},
     "output_type": "execute_result"
    }
   ],
   "source": [
    "# Loại bỏ cột dư thừa\n",
    "frame.drop(columns=[\"Unnamed: 0\"], inplace=True)\n",
    "frame.head()"
   ]
  },
  {
   "cell_type": "markdown",
   "metadata": {},
   "source": [
    "## Normalize"
   ]
  },
  {
   "cell_type": "code",
   "execution_count": 67,
   "metadata": {},
   "outputs": [
    {
     "data": {
      "text/html": [
       "<div>\n",
       "<style scoped>\n",
       "    .dataframe tbody tr th:only-of-type {\n",
       "        vertical-align: middle;\n",
       "    }\n",
       "\n",
       "    .dataframe tbody tr th {\n",
       "        vertical-align: top;\n",
       "    }\n",
       "\n",
       "    .dataframe thead th {\n",
       "        text-align: right;\n",
       "    }\n",
       "</style>\n",
       "<table border=\"1\" class=\"dataframe\">\n",
       "  <thead>\n",
       "    <tr style=\"text-align: right;\">\n",
       "      <th></th>\n",
       "      <th>Emotion</th>\n",
       "      <th>Sentence</th>\n",
       "    </tr>\n",
       "  </thead>\n",
       "  <tbody>\n",
       "    <tr>\n",
       "      <th>0</th>\n",
       "      <td>2</td>\n",
       "      <td>mình tuyên_bố ở việt nam giọng đã hay thì cầm ...</td>\n",
       "    </tr>\n",
       "    <tr>\n",
       "      <th>1</th>\n",
       "      <td>4</td>\n",
       "      <td>mọi người hát karaoke beat phối mới mặt_trời c...</td>\n",
       "    </tr>\n",
       "    <tr>\n",
       "      <th>2</th>\n",
       "      <td>2</td>\n",
       "      <td>ở việt nam cầm muỗng hát cũng là ca_sĩ nhá</td>\n",
       "    </tr>\n",
       "    <tr>\n",
       "      <th>3</th>\n",
       "      <td>2</td>\n",
       "      <td>có ai thấy bản live này hay hơn bản_chính không</td>\n",
       "    </tr>\n",
       "    <tr>\n",
       "      <th>4</th>\n",
       "      <td>2</td>\n",
       "      <td>tại_sao trước đây tôi lại không biết đến sự tồ...</td>\n",
       "    </tr>\n",
       "  </tbody>\n",
       "</table>\n",
       "</div>"
      ],
      "text/plain": [
       "   Emotion                                           Sentence\n",
       "0        2  mình tuyên_bố ở việt nam giọng đã hay thì cầm ...\n",
       "1        4  mọi người hát karaoke beat phối mới mặt_trời c...\n",
       "2        2         ở việt nam cầm muỗng hát cũng là ca_sĩ nhá\n",
       "3        2    có ai thấy bản live này hay hơn bản_chính không\n",
       "4        2  tại_sao trước đây tôi lại không biết đến sự tồ..."
      ]
     },
     "execution_count": 67,
     "metadata": {},
     "output_type": "execute_result"
    }
   ],
   "source": [
    "# Chuẩn hóa label - Emotion\n",
    "frame.Emotion = encoder.fit_transform(frame.Emotion)\n",
    "frame.head()"
   ]
  },
  {
   "cell_type": "code",
   "execution_count": 68,
   "metadata": {},
   "outputs": [],
   "source": [
    "# Chia ra làm 2 tập data, label\n",
    "data_youtube = []\n",
    "label_youtube = []\n",
    "for i in range(len(frame)):\n",
    "    data_youtube.append(frame.Sentence[i])\n",
    "    label_youtube.append(frame.Emotion[i])"
   ]
  },
  {
   "cell_type": "markdown",
   "metadata": {},
   "source": [
    "## Vectorizer"
   ]
  },
  {
   "cell_type": "code",
   "execution_count": 69,
   "metadata": {},
   "outputs": [
    {
     "name": "stdout",
     "output_type": "stream",
     "text": [
      "(303, 3000)\n"
     ]
    }
   ],
   "source": [
    "# Vector hóa\n",
    "X_frame = vectorizer.transform(data_youtube).toarray()\n",
    "print(X_frame.shape)"
   ]
  },
  {
   "cell_type": "markdown",
   "metadata": {},
   "source": [
    "## Model predict data youtube"
   ]
  },
  {
   "cell_type": "code",
   "execution_count": 70,
   "metadata": {},
   "outputs": [],
   "source": [
    "# Predict data crawl\n",
    "y_pred_data_youtube = model.predict(X_frame)"
   ]
  },
  {
   "cell_type": "code",
   "execution_count": 71,
   "metadata": {},
   "outputs": [],
   "source": [
    "y_pred_data_youtube1 = np.argmax(y_pred_data_youtube, axis=1)"
   ]
  },
  {
   "cell_type": "code",
   "execution_count": 72,
   "metadata": {},
   "outputs": [
    {
     "name": "stdout",
     "output_type": "stream",
     "text": [
      "              precision    recall  f1-score   support\n",
      "\n",
      "           0       0.00      0.00      0.00         3\n",
      "           1       0.10      0.67      0.17         6\n",
      "           2       0.73      0.71      0.72       150\n",
      "           3       0.00      0.00      0.00         1\n",
      "           4       0.59      0.24      0.34       109\n",
      "           5       0.24      0.65      0.35        26\n",
      "           6       0.00      0.00      0.00         8\n",
      "\n",
      "    accuracy                           0.51       303\n",
      "   macro avg       0.24      0.32      0.23       303\n",
      "weighted avg       0.60      0.51      0.51       303\n",
      "\n"
     ]
    }
   ],
   "source": [
    "print(classification_report(label_youtube, y_pred_data_youtube1))"
   ]
  },
  {
   "cell_type": "code",
   "execution_count": null,
   "metadata": {},
   "outputs": [],
   "source": []
  }
 ],
 "metadata": {
  "kernelspec": {
   "display_name": "Python 3",
   "language": "python",
   "name": "python3"
  },
  "language_info": {
   "codemirror_mode": {
    "name": "ipython",
    "version": 3
   },
   "file_extension": ".py",
   "mimetype": "text/x-python",
   "name": "python",
   "nbconvert_exporter": "python",
   "pygments_lexer": "ipython3",
   "version": "3.8.5"
  }
 },
 "nbformat": 4,
 "nbformat_minor": 4
}
